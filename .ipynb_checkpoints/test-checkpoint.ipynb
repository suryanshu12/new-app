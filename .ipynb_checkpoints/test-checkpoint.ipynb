{
 "cells": [
  {
   "cell_type": "code",
   "execution_count": null,
   "id": "ed771671",
   "metadata": {},
   "outputs": [
    {
     "data": {
      "application/vnd.jupyter.widget-view+json": {
       "model_id": "47d7e558dae54a2985d48de79e5eb683",
       "version_major": 2,
       "version_minor": 0
      },
      "text/plain": [
       "Batches:   0%|          | 0/1824 [00:00<?, ?it/s]"
      ]
     },
     "metadata": {},
     "output_type": "display_data"
    }
   ],
   "source": [
    "import sqlite3\n",
    "import pandas as pd\n",
    "from sentence_transformers import SentenceTransformer\n",
    "import numpy as np\n",
    "\n",
    "# Load data\n",
    "conn = sqlite3.connect(\"patent_db.sqlite\")\n",
    "df = pd.read_sql_query(\"SELECT id, title, abstract FROM patents\", conn)\n",
    "df[\"text\"] = df[\"title\"].fillna(\"\") + \". \" + df[\"abstract\"].fillna(\"\")\n",
    "texts = df[\"text\"].tolist()\n",
    "\n",
    "# Load model\n",
    "model = SentenceTransformer(\"all-MiniLM-L6-v2\")\n",
    "\n",
    "# Generate embeddings\n",
    "embeddings = model.encode(texts, show_progress_bar=True)\n",
    "\n",
    "# Save embeddings to disk\n",
    "np.save(\"embeddings.npy\", embeddings)\n",
    "df.to_csv(\"patent_data.csv\", index=False)  # save DataFrame as CSV too\n"
   ]
  },
  {
   "cell_type": "code",
   "execution_count": null,
   "id": "000e4c2b",
   "metadata": {},
   "outputs": [],
   "source": []
  }
 ],
 "metadata": {
  "kernelspec": {
   "display_name": "Python 3 (ipykernel)",
   "language": "python",
   "name": "python3"
  },
  "language_info": {
   "codemirror_mode": {
    "name": "ipython",
    "version": 3
   },
   "file_extension": ".py",
   "mimetype": "text/x-python",
   "name": "python",
   "nbconvert_exporter": "python",
   "pygments_lexer": "ipython3",
   "version": "3.10.5"
  }
 },
 "nbformat": 4,
 "nbformat_minor": 5
}
