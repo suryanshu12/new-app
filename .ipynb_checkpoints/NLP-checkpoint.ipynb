{
 "cells": [
  {
   "cell_type": "code",
   "execution_count": 1,
   "id": "1d88dfb1",
   "metadata": {},
   "outputs": [
    {
     "data": {
      "text/html": [
       "<div>\n",
       "<style scoped>\n",
       "    .dataframe tbody tr th:only-of-type {\n",
       "        vertical-align: middle;\n",
       "    }\n",
       "\n",
       "    .dataframe tbody tr th {\n",
       "        vertical-align: top;\n",
       "    }\n",
       "\n",
       "    .dataframe thead th {\n",
       "        text-align: right;\n",
       "    }\n",
       "</style>\n",
       "<table border=\"1\" class=\"dataframe\">\n",
       "  <thead>\n",
       "    <tr style=\"text-align: right;\">\n",
       "      <th></th>\n",
       "      <th>id</th>\n",
       "      <th>title</th>\n",
       "      <th>abstract</th>\n",
       "    </tr>\n",
       "  </thead>\n",
       "  <tbody>\n",
       "    <tr>\n",
       "      <th>0</th>\n",
       "      <td>1</td>\n",
       "      <td>Climbing rose plant named ‘BAISIKOMIK’</td>\n",
       "      <td>A new and distinct variety of climbing rose pl...</td>\n",
       "    </tr>\n",
       "    <tr>\n",
       "      <th>1</th>\n",
       "      <td>2</td>\n",
       "      <td>Mandarin plant named ‘CLEMENLOLA’</td>\n",
       "      <td>‘CLEMENLOLA’ is a spontaneous mutation of the ...</td>\n",
       "    </tr>\n",
       "    <tr>\n",
       "      <th>2</th>\n",
       "      <td>3</td>\n",
       "      <td>None</td>\n",
       "      <td>A new \\n</td>\n",
       "    </tr>\n",
       "    <tr>\n",
       "      <th>3</th>\n",
       "      <td>4</td>\n",
       "      <td>None</td>\n",
       "      <td>A new and distinct cultivar of \\n</td>\n",
       "    </tr>\n",
       "    <tr>\n",
       "      <th>4</th>\n",
       "      <td>5</td>\n",
       "      <td>None</td>\n",
       "      <td>A new \\n</td>\n",
       "    </tr>\n",
       "  </tbody>\n",
       "</table>\n",
       "</div>"
      ],
      "text/plain": [
       "   id                                   title  \\\n",
       "0   1  Climbing rose plant named ‘BAISIKOMIK’   \n",
       "1   2       Mandarin plant named ‘CLEMENLOLA’   \n",
       "2   3                                    None   \n",
       "3   4                                    None   \n",
       "4   5                                    None   \n",
       "\n",
       "                                            abstract  \n",
       "0  A new and distinct variety of climbing rose pl...  \n",
       "1  ‘CLEMENLOLA’ is a spontaneous mutation of the ...  \n",
       "2                                           A new \\n  \n",
       "3                  A new and distinct cultivar of \\n  \n",
       "4                                           A new \\n  "
      ]
     },
     "execution_count": 1,
     "metadata": {},
     "output_type": "execute_result"
    }
   ],
   "source": [
    "import sqlite3\n",
    "import pandas as pd\n",
    "\n",
    "# Connect to SQLite DB \n",
    "conn = sqlite3.connect(\"patent_db.sqlite\")\n",
    "\n",
    "# Read the data \n",
    "df = pd.read_sql_query(\"SELECT id, title, abstract FROM patents\", conn)\n",
    "\n",
    "df.head()\n"
   ]
  },
  {
   "cell_type": "code",
   "execution_count": 2,
   "id": "b2315efa",
   "metadata": {},
   "outputs": [
    {
     "name": "stdout",
     "output_type": "stream",
     "text": [
      "Climbing rose plant named ‘BAISIKOMIK’. A new and distinct variety of climbing rose plant, referred to by its cultivar name, ‘BAISIKOMIK’, is described. The new variety forms nice turbinated shaped flowers with true color gradation. The flowers emit a strong, sweet licorice/anise fragrance. Improved reblooming is exhibited. Additionally, the new variety is particularly well suited for growing as distinctive ornamentation in the landscape.\n",
      "\n"
     ]
    }
   ],
   "source": [
    "# Combine title and abstract for better semantic understanding\n",
    "df[\"text\"] = df[\"title\"].fillna(\"\") + \". \" + df[\"abstract\"].fillna(\"\")\n",
    "\n",
    "# Convert to list\n",
    "texts = df[\"text\"].tolist()\n",
    "\n",
    "print(texts[0])\n"
   ]
  },
  {
   "cell_type": "code",
   "execution_count": 3,
   "id": "49637a9b",
   "metadata": {},
   "outputs": [
    {
     "data": {
      "application/vnd.jupyter.widget-view+json": {
       "model_id": "77859d2fedb44103a3bd57a4f6f20596",
       "version_major": 2,
       "version_minor": 0
      },
      "text/plain": [
       "Batches:   0%|          | 0/1824 [00:00<?, ?it/s]"
      ]
     },
     "metadata": {},
     "output_type": "display_data"
    }
   ],
   "source": [
    "from sentence_transformers import SentenceTransformer\n",
    "\n",
    "# Load pre-trained model\n",
    "model = SentenceTransformer(\"all-MiniLM-L6-v2\")\n",
    "\n",
    "# Generate embeddings\n",
    "embeddings = model.encode(texts, show_progress_bar=True)\n"
   ]
  },
  {
   "cell_type": "code",
   "execution_count": null,
   "id": "608bed97",
   "metadata": {},
   "outputs": [],
   "source": [
    "import faiss\n",
    "import numpy as np\n",
    "\n",
    "# Get embedding dimension\n",
    "dimension = embeddings[0].shape[0]\n",
    "\n",
    "# Create FAISS index\n",
    "index = faiss.IndexFlatL2(dimension)\n",
    "\n",
    "# Add all document embeddings to index\n",
    "index.add(np.array(embeddings))\n"
   ]
  },
  {
   "cell_type": "code",
   "execution_count": 5,
   "id": "1dcd90c2",
   "metadata": {},
   "outputs": [],
   "source": [
    "def search_patents(query, k=5):\n",
    "    # Convert query to embedding\n",
    "    query_embedding = model.encode([query])\n",
    "    \n",
    "    # Search top-k most similar\n",
    "    distances, indices = index.search(np.array(query_embedding), k)\n",
    "    \n",
    "    # Display results\n",
    "    print(f\"\\nTop {k} matches for: '{query}'\")\n",
    "    for i in indices[0]:\n",
    "        print(\"\\n------------------------------\")\n",
    "        print(f\"📌 Title: {df.iloc[i]['title']}\")\n",
    "        print(f\"🧾 Abstract: {df.iloc[i]['abstract']}\")\n"
   ]
  },
  {
   "cell_type": "code",
   "execution_count": null,
   "id": "f9b04d85",
   "metadata": {},
   "outputs": [],
   "source": [
    "search_patents(\"AI system for self-driving cars\", k=3)"
   ]
  },
  {
   "cell_type": "code",
   "execution_count": null,
   "id": "e96ddd52",
   "metadata": {},
   "outputs": [],
   "source": [
    "\n"
   ]
  },
  {
   "cell_type": "code",
   "execution_count": null,
   "id": "91550699",
   "metadata": {},
   "outputs": [],
   "source": []
  }
 ],
 "metadata": {
  "kernelspec": {
   "display_name": "Python 3 (ipykernel)",
   "language": "python",
   "name": "python3"
  },
  "language_info": {
   "codemirror_mode": {
    "name": "ipython",
    "version": 3
   },
   "file_extension": ".py",
   "mimetype": "text/x-python",
   "name": "python",
   "nbconvert_exporter": "python",
   "pygments_lexer": "ipython3",
   "version": "3.10.5"
  }
 },
 "nbformat": 4,
 "nbformat_minor": 5
}
