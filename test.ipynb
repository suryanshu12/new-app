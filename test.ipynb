{
 "cells": [
  {
   "cell_type": "code",
   "execution_count": 1,
   "id": "9926d950",
   "metadata": {},
   "outputs": [
    {
     "data": {
      "application/vnd.jupyter.widget-view+json": {
       "model_id": "d380849bf9e34194ab53d67a22e7a2f9",
       "version_major": 2,
       "version_minor": 0
      },
      "text/plain": [
       "Batches:   0%|          | 0/912 [00:00<?, ?it/s]"
      ]
     },
     "metadata": {},
     "output_type": "display_data"
    }
   ],
   "source": [
    "import pandas as pd\n",
    "import numpy as np\n",
    "from sentence_transformers import SentenceTransformer\n",
    "\n",
    "# Load your patent CSV\n",
    "df = pd.read_csv(\"patent_data.csv\")\n",
    "\n",
    "# Combine title and abstract\n",
    "def combine_text(row):\n",
    "    return f\"{row.get('title', '')}. {row.get('abstract', '')}\"\n",
    "\n",
    "combined_texts = df.apply(combine_text, axis=1).tolist()\n",
    "\n",
    "# Load your embedding model\n",
    "model = SentenceTransformer('all-MiniLM-L6-v2')\n",
    "\n",
    "# Compute embeddings (batch processing recommended for large data)\n",
    "embeddings = model.encode(combined_texts, batch_size=64, show_progress_bar=True, convert_to_numpy=True, normalize_embeddings=True)\n",
    "\n",
    "# Save embeddings to file\n",
    "np.save(\"patent_embeddings.npy\", embeddings)\n",
    "\n",
    "# Optional: Save combined texts for reference or reloading\n",
    "import json\n",
    "with open(\"combined_texts.json\", \"w\", encoding=\"utf-8\") as f:\n",
    "    json.dump(combined_texts, f, ensure_ascii=False)\n"
   ]
  },
  {
   "cell_type": "code",
   "execution_count": null,
   "id": "dc403f0c",
   "metadata": {},
   "outputs": [],
   "source": [
    "!streamlit run app.py"
   ]
  },
  {
   "cell_type": "code",
   "execution_count": null,
   "id": "96187276",
   "metadata": {},
   "outputs": [],
   "source": []
  }
 ],
 "metadata": {
  "kernelspec": {
   "display_name": "Python 3 (ipykernel)",
   "language": "python",
   "name": "python3"
  },
  "language_info": {
   "codemirror_mode": {
    "name": "ipython",
    "version": 3
   },
   "file_extension": ".py",
   "mimetype": "text/x-python",
   "name": "python",
   "nbconvert_exporter": "python",
   "pygments_lexer": "ipython3",
   "version": "3.10.5"
  }
 },
 "nbformat": 4,
 "nbformat_minor": 5
}
